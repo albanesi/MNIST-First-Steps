{
  "cells": [
    {
      "cell_type": "markdown",
      "metadata": {
        "id": "view-in-github",
        "colab_type": "text"
      },
      "source": [
        "<a href=\"https://colab.research.google.com/github/albanesi/MNIST-First-Steps/blob/main/Kopie_von_1_MNIST_first_steps.ipynb\" target=\"_parent\"><img src=\"https://colab.research.google.com/assets/colab-badge.svg\" alt=\"Open In Colab\"/></a>"
      ]
    },
    {
      "cell_type": "markdown",
      "metadata": {
        "id": "USSV_OlCFKOD"
      },
      "source": [
        "# Training a neural network on MNIST with Keras&Tensorflow\n",
        "\n"
      ]
    },
    {
      "cell_type": "markdown",
      "metadata": {
        "id": "zyAWszXJDBZF"
      },
      "source": [
        "In this Notebook you will start playing with the \"Hello World\" of Nueral Networks: The MNIST Dataset. And we will expand from there."
      ]
    },
    {
      "cell_type": "markdown",
      "metadata": {
        "id": "_PXUHrp3DBZF"
      },
      "source": [
        "### 1. Classification of hand-written digits"
      ]
    },
    {
      "cell_type": "code",
      "execution_count": 1,
      "metadata": {
        "id": "TTBSvHcSLBzc"
      },
      "outputs": [],
      "source": [
        "import tensorflow as tf\n",
        "import matplotlib.pyplot as plt\n",
        "import numpy as np"
      ]
    },
    {
      "cell_type": "code",
      "execution_count": 2,
      "metadata": {
        "id": "iRSLoGXXDBZG",
        "colab": {
          "base_uri": "https://localhost:8080/",
          "height": 36
        },
        "outputId": "46142866-d4ac-4faa-82c4-fdfc883676be"
      },
      "outputs": [
        {
          "output_type": "execute_result",
          "data": {
            "text/plain": [
              "'2.18.0'"
            ],
            "application/vnd.google.colaboratory.intrinsic+json": {
              "type": "string"
            }
          },
          "metadata": {},
          "execution_count": 2
        }
      ],
      "source": [
        "tf.__version__\n"
      ]
    },
    {
      "cell_type": "code",
      "execution_count": 3,
      "metadata": {
        "id": "80zHCUbvDBZG",
        "colab": {
          "base_uri": "https://localhost:8080/"
        },
        "outputId": "4c54fd1d-4f36-43e9-e219-90a0d922cd1d"
      },
      "outputs": [
        {
          "output_type": "stream",
          "name": "stdout",
          "text": [
            "Downloading data from https://storage.googleapis.com/tensorflow/tf-keras-datasets/mnist.npz\n",
            "\u001b[1m11490434/11490434\u001b[0m \u001b[32m━━━━━━━━━━━━━━━━━━━━\u001b[0m\u001b[37m\u001b[0m \u001b[1m0s\u001b[0m 0us/step\n"
          ]
        }
      ],
      "source": [
        "mnist = tf.keras.datasets.mnist  # Zugriff auf den integrierten MNIST-Datensatz (handgeschriebene Ziffern von 0–9)\n",
        "(X_train_full, y_train_full), (X_test, y_test) = mnist.load_data()  # Lädt die Daten aufgeteilt in Trainings- und Testdaten\n",
        "# X_train_full.shape  # (optional) zeigt die Dimensionen des Trainingsdaten-Arrays, z. B. (60000, 28, 28)"
      ]
    },
    {
      "cell_type": "code",
      "execution_count": 4,
      "metadata": {
        "id": "A0KjuDf7XiqY"
      },
      "outputs": [],
      "source": [
        "X_valid, X_train = X_train_full[:5000] / 255., X_train_full[5000:] / 255.  # Normalisiere Pixelwerte (0–255 → 0–1) und teile Trainingsdaten in Validierungs- und Trainingsset auf\n",
        "y_valid, y_train = y_train_full[:5000], y_train_full[5000:]  # Entsprechende Labels für Validierungs- und Trainingsset\n",
        "X_test = X_test / 255.  # Auch die Testdaten werden normalisiert"
      ]
    },
    {
      "cell_type": "code",
      "execution_count": 5,
      "metadata": {
        "id": "ZwWz09nNDBZH",
        "colab": {
          "base_uri": "https://localhost:8080/",
          "height": 406
        },
        "outputId": "ecb9f3e9-87c0-4ab0-d730-c2c34cc4eaad"
      },
      "outputs": [
        {
          "output_type": "display_data",
          "data": {
            "text/plain": [
              "<Figure size 1200x480 with 40 Axes>"
            ],
            "image/png": "[encoded data removed]"
          },
          "metadata": {}
        }
      ],
      "source": [
        "n_rows = 4  # Anzahl der Zeilen im Bildraster\n",
        "n_cols = 10  # Anzahl der Spalten im Bildraster\n",
        "plt.figure(figsize=(n_cols * 1.2, n_rows * 1.2))  # Setzt die Größe der gesamten Abbildung in Zoll\n",
        "\n",
        "for row in range(n_rows):\n",
        "    for col in range(n_cols):\n",
        "        index = n_cols * row + col  # Berechnet den Index für das Bild, das in dieser Position angezeigt werden soll\n",
        "        plt.subplot(n_rows, n_cols, index + 1)  # Erzeugt ein Subplot-Feld an der richtigen Position\n",
        "        plt.imshow(X_train[index], cmap=\"binary\", interpolation=\"nearest\")  # Zeigt das Bild in Schwarz-Weiss an\n",
        "        plt.axis('off')  # Deaktiviert die Achsenanzeige\n",
        "\n",
        "plt.subplots_adjust(wspace=0.2, hspace=0.5)  # Abstand zwischen den Subplots (horizontal und vertikal)\n",
        "plt.show()  # Zeigt die gesamte Abbildung mit allen Subplots an\n"
      ]
    },
    {
      "cell_type": "code",
      "execution_count": 6,
      "metadata": {
        "id": "4bZ9GaRCDBZH",
        "colab": {
          "base_uri": "https://localhost:8080/",
          "height": 406
        },
        "outputId": "725cbb38-05e9-4c43-8080-660446f9892d"
      },
      "outputs": [
        {
          "output_type": "display_data",
          "data": {
            "text/plain": [
              "<Figure size 640x480 with 1 Axes>"
            ],
            "image/png": "[encoded data removed]"
          },
          "metadata": {}
        }
      ],
      "source": [
        "plt.imshow(X_train[5], cmap=\"binary\")  # Zeigt das 6. Bild im Trainingsdatensatz in Schwarz-Weiss an\n",
        "plt.axis('off')  # Entfernt Achsenbeschriftungen für ein sauberes Bild\n",
        "plt.show()  # Zeigt die Grafik\n"
      ]
    },
    {
      "cell_type": "code",
      "execution_count": 7,
      "metadata": {
        "id": "Uzi_WEUFDBZH",
        "colab": {
          "base_uri": "https://localhost:8080/"
        },
        "outputId": "fcc1f6fd-b6e1-4813-cfad-fdf7a27ed1d6"
      },
      "outputs": [
        {
          "output_type": "execute_result",
          "data": {
            "text/plain": [
              "array([7, 3, 4, ..., 5, 6, 8], dtype=uint8)"
            ]
          },
          "metadata": {},
          "execution_count": 7
        }
      ],
      "source": [
        "y_train  # Gibt ein Array mit den Zielwerten (Labels) für alle Trainingsbilder zurück\n"
      ]
    },
    {
      "cell_type": "markdown",
      "metadata": {
        "id": "nTFoji3INMEM"
      },
      "source": [
        "### Create and train the model\n",
        "Implement an ANN with 2 Hidden Layers, the first with 128 neurons and \"relu\" activation functions. The second layers instead contains 64 neurons (also relu activation function).\n",
        "Don't forget the output layer :)\n",
        "\n",
        "Also, remember that due to the 2D structure of your input data you need to first flatten them. Use the following specific layer at the very beginning inside your Sequential Model:\n",
        "\n",
        "\n",
        "tf.keras.layers.Flatten(input_shape=(28, 28))\n",
        "\n",
        "Notabene: you don't need to provide the input_dim in the first Dense layer, if you start with a Flatten layer."
      ]
    },
    {
      "cell_type": "code",
      "execution_count": 8,
      "metadata": {
        "id": "eGUtUsHXDBZH",
        "colab": {
          "base_uri": "https://localhost:8080/"
        },
        "outputId": "f05751eb-0d2e-4787-b796-1b8c1104541e"
      },
      "outputs": [
        {
          "output_type": "stream",
          "name": "stderr",
          "text": [
            "/usr/local/lib/python3.11/dist-packages/keras/src/layers/reshaping/flatten.py:37: UserWarning: Do not pass an `input_shape`/`input_dim` argument to a layer. When using Sequential models, prefer using an `Input(shape)` object as the first layer in the model instead.\n",
            "  super().__init__(**kwargs)\n"
          ]
        }
      ],
      "source": [
        "model = tf.keras.models.Sequential([\n",
        "    tf.keras.layers.Flatten(input_shape=(28, 28)),  # Wandelt 28x28-Bild in 1D-Vektor um (784,)\n",
        "    tf.keras.layers.Dense(128, activation='relu'),  # Erste versteckte Schicht mit 128 Neuronen und ReLU-Aktivierung\n",
        "    tf.keras.layers.Dense(64, activation='relu'),   # Zweite versteckte Schicht mit 64 Neuronen und ReLU-Aktivierung\n",
        "    tf.keras.layers.Dense(10, activation='softmax') # Ausgabeschicht mit 10 Neuronen (für die Ziffern 0–9), softmax liefert Wahrscheinlichkeiten\n",
        "])"
      ]
    },
    {
      "cell_type": "markdown",
      "metadata": {
        "id": "NF1I2IdjDBZI"
      },
      "source": [
        "Since my input are 2D images, I need first to \"flatten\" them into a 1-dimensional array. The number of input neurons will be the total number of pixels."
      ]
    },
    {
      "cell_type": "code",
      "execution_count": 9,
      "metadata": {
        "id": "YLJQ2BbIDBZI",
        "colab": {
          "base_uri": "https://localhost:8080/",
          "height": 254
        },
        "outputId": "0eb9eb8b-a382-4126-8cba-8abde64c2d75"
      },
      "outputs": [
        {
          "output_type": "display_data",
          "data": {
            "text/plain": [
              "\u001b[1mModel: \"sequential\"\u001b[0m\n"
            ],
            "text/html": [
              "<pre style=\"white-space:pre;overflow-x:auto;line-height:normal;font-family:Menlo,'DejaVu Sans Mono',consolas,'Courier New',monospace\"><span style=\"font-weight: bold\">Model: \"sequential\"</span>\n",
              "</pre>\n"
            ]
          },
          "metadata": {}
        },
        {
          "output_type": "display_data",
          "data": {
            "text/plain": [
              "┏━━━━━━━━━━━━━━━━━━━━━━━━━━━━━━━━━┳━━━━━━━━━━━━━━━━━━━━━━━━┳━━━━━━━━━━━━━━━┓\n",
              "┃\u001b[1m \u001b[0m\u001b[1mLayer (type)                   \u001b[0m\u001b[1m \u001b[0m┃\u001b[1m \u001b[0m\u001b[1mOutput Shape          \u001b[0m\u001b[1m \u001b[0m┃\u001b[1m \u001b[0m\u001b[1m      Param #\u001b[0m\u001b[1m \u001b[0m┃\n",
              "┡━━━━━━━━━━━━━━━━━━━━━━━━━━━━━━━━━╇━━━━━━━━━━━━━━━━━━━━━━━━╇━━━━━━━━━━━━━━━┩\n",
              "│ flatten (\u001b[38;5;33mFlatten\u001b[0m)               │ (\u001b[38;5;45mNone\u001b[0m, \u001b[38;5;34m784\u001b[0m)            │             \u001b[38;5;34m0\u001b[0m │\n",
              "├─────────────────────────────────┼────────────────────────┼───────────────┤\n",
              "│ dense (\u001b[38;5;33mDense\u001b[0m)                   │ (\u001b[38;5;45mNone\u001b[0m, \u001b[38;5;34m128\u001b[0m)            │       \u001b[38;5;34m100,480\u001b[0m │\n",
              "├─────────────────────────────────┼────────────────────────┼───────────────┤\n",
              "│ dense_1 (\u001b[38;5;33mDense\u001b[0m)                 │ (\u001b[38;5;45mNone\u001b[0m, \u001b[38;5;34m64\u001b[0m)             │         \u001b[38;5;34m8,256\u001b[0m │\n",
              "├─────────────────────────────────┼────────────────────────┼───────────────┤\n",
              "│ dense_2 (\u001b[38;5;33mDense\u001b[0m)                 │ (\u001b[38;5;45mNone\u001b[0m, \u001b[38;5;34m10\u001b[0m)             │           \u001b[38;5;34m650\u001b[0m │\n",
              "└─────────────────────────────────┴────────────────────────┴───────────────┘\n"
            ],
            "text/html": [
              "<pre style=\"white-space:pre;overflow-x:auto;line-height:normal;font-family:Menlo,'DejaVu Sans Mono',consolas,'Courier New',monospace\">┏━━━━━━━━━━━━━━━━━━━━━━━━━━━━━━━━━┳━━━━━━━━━━━━━━━━━━━━━━━━┳━━━━━━━━━━━━━━━┓\n",
              "┃<span style=\"font-weight: bold\"> Layer (type)                    </span>┃<span style=\"font-weight: bold\"> Output Shape           </span>┃<span style=\"font-weight: bold\">       Param # </span>┃\n",
              "┡━━━━━━━━━━━━━━━━━━━━━━━━━━━━━━━━━╇━━━━━━━━━━━━━━━━━━━━━━━━╇━━━━━━━━━━━━━━━┩\n",
              "│ flatten (<span style=\"color: #0087ff; text-decoration-color: #0087ff\">Flatten</span>)               │ (<span style=\"color: #00d7ff; text-decoration-color: #00d7ff\">None</span>, <span style=\"color: #00af00; text-decoration-color: #00af00\">784</span>)            │             <span style=\"color: #00af00; text-decoration-color: #00af00\">0</span> │\n",
              "├─────────────────────────────────┼────────────────────────┼───────────────┤\n",
              "│ dense (<span style=\"color: #0087ff; text-decoration-color: #0087ff\">Dense</span>)                   │ (<span style=\"color: #00d7ff; text-decoration-color: #00d7ff\">None</span>, <span style=\"color: #00af00; text-decoration-color: #00af00\">128</span>)            │       <span style=\"color: #00af00; text-decoration-color: #00af00\">100,480</span> │\n",
              "├─────────────────────────────────┼────────────────────────┼───────────────┤\n",
              "│ dense_1 (<span style=\"color: #0087ff; text-decoration-color: #0087ff\">Dense</span>)                 │ (<span style=\"color: #00d7ff; text-decoration-color: #00d7ff\">None</span>, <span style=\"color: #00af00; text-decoration-color: #00af00\">64</span>)             │         <span style=\"color: #00af00; text-decoration-color: #00af00\">8,256</span> │\n",
              "├─────────────────────────────────┼────────────────────────┼───────────────┤\n",
              "│ dense_2 (<span style=\"color: #0087ff; text-decoration-color: #0087ff\">Dense</span>)                 │ (<span style=\"color: #00d7ff; text-decoration-color: #00d7ff\">None</span>, <span style=\"color: #00af00; text-decoration-color: #00af00\">10</span>)             │           <span style=\"color: #00af00; text-decoration-color: #00af00\">650</span> │\n",
              "└─────────────────────────────────┴────────────────────────┴───────────────┘\n",
              "</pre>\n"
            ]
          },
          "metadata": {}
        },
        {
          "output_type": "display_data",
          "data": {
            "text/plain": [
              "\u001b[1m Total params: \u001b[0m\u001b[38;5;34m109,386\u001b[0m (427.29 KB)\n"
            ],
            "text/html": [
              "<pre style=\"white-space:pre;overflow-x:auto;line-height:normal;font-family:Menlo,'DejaVu Sans Mono',consolas,'Courier New',monospace\"><span style=\"font-weight: bold\"> Total params: </span><span style=\"color: #00af00; text-decoration-color: #00af00\">109,386</span> (427.29 KB)\n",
              "</pre>\n"
            ]
          },
          "metadata": {}
        },
        {
          "output_type": "display_data",
          "data": {
            "text/plain": [
              "\u001b[1m Trainable params: \u001b[0m\u001b[38;5;34m109,386\u001b[0m (427.29 KB)\n"
            ],
            "text/html": [
              "<pre style=\"white-space:pre;overflow-x:auto;line-height:normal;font-family:Menlo,'DejaVu Sans Mono',consolas,'Courier New',monospace\"><span style=\"font-weight: bold\"> Trainable params: </span><span style=\"color: #00af00; text-decoration-color: #00af00\">109,386</span> (427.29 KB)\n",
              "</pre>\n"
            ]
          },
          "metadata": {}
        },
        {
          "output_type": "display_data",
          "data": {
            "text/plain": [
              "\u001b[1m Non-trainable params: \u001b[0m\u001b[38;5;34m0\u001b[0m (0.00 B)\n"
            ],
            "text/html": [
              "<pre style=\"white-space:pre;overflow-x:auto;line-height:normal;font-family:Menlo,'DejaVu Sans Mono',consolas,'Courier New',monospace\"><span style=\"font-weight: bold\"> Non-trainable params: </span><span style=\"color: #00af00; text-decoration-color: #00af00\">0</span> (0.00 B)\n",
              "</pre>\n"
            ]
          },
          "metadata": {}
        }
      ],
      "source": [
        "\n",
        "model.summary()"
      ]
    },
    {
      "cell_type": "markdown",
      "metadata": {
        "id": "DHYRFQznDBZI"
      },
      "source": [
        "Define now which cost function to minimize in the .compile method. Take \"sgd\" as optimizer and track the accuracy as metric.\n",
        "\n",
        "For classification:Pay attention to the last layer if sigmoid or softmax is explicitly indicated, then from_logits = False\n",
        "\n",
        "Notabene: Here a Sparse Categorical Crossentropy is used, becuase we are dealing with a multi-class classification If it would be a binary classification, then the loss function (i.e. the cost function) would have been Binary Crossentropy\n",
        "\n",
        "For a full lists of cost functions available in tf.keras (both for Regression and Classification) https://www.tensorflow.org/api_docs/python/tf/keras/losses"
      ]
    },
    {
      "cell_type": "code",
      "execution_count": 10,
      "metadata": {
        "id": "TEKPjR3mDBZI"
      },
      "outputs": [],
      "source": [
        "# Modellkompilierung\n",
        "model.compile(\n",
        "    loss=\"sparse_categorical_crossentropy\",  # Für Mehrklassenklassifikation mit Integer-Labels (0–9)\n",
        "    optimizer=\"adam\",                        # Effizienter Optimierer\n",
        "    metrics=[\"accuracy\"]                     # Genauigkeit als Metrik zur Bewertung\n",
        ")"
      ]
    },
    {
      "cell_type": "code",
      "execution_count": 11,
      "metadata": {
        "id": "U9lswuT4DBZI",
        "colab": {
          "base_uri": "https://localhost:8080/"
        },
        "outputId": "067180f8-ea30-4e69-9ddf-2aef69a66b8e"
      },
      "outputs": [
        {
          "output_type": "stream",
          "name": "stdout",
          "text": [
            "Epoch 1/15\n",
            "\u001b[1m1719/1719\u001b[0m \u001b[32m━━━━━━━━━━━━━━━━━━━━\u001b[0m\u001b[37m\u001b[0m \u001b[1m10s\u001b[0m 5ms/step - accuracy: 0.8678 - loss: 0.4432 - val_accuracy: 0.9596 - val_loss: 0.1433\n",
            "Epoch 2/15\n",
            "\u001b[1m1719/1719\u001b[0m \u001b[32m━━━━━━━━━━━━━━━━━━━━\u001b[0m\u001b[37m\u001b[0m \u001b[1m11s\u001b[0m 5ms/step - accuracy: 0.9658 - loss: 0.1126 - val_accuracy: 0.9760 - val_loss: 0.0897\n",
            "Epoch 3/15\n",
            "\u001b[1m1719/1719\u001b[0m \u001b[32m━━━━━━━━━━━━━━━━━━━━\u001b[0m\u001b[37m\u001b[0m \u001b[1m9s\u001b[0m 5ms/step - accuracy: 0.9781 - loss: 0.0710 - val_accuracy: 0.9744 - val_loss: 0.0805\n",
            "Epoch 4/15\n",
            "\u001b[1m1719/1719\u001b[0m \u001b[32m━━━━━━━━━━━━━━━━━━━━\u001b[0m\u001b[37m\u001b[0m \u001b[1m7s\u001b[0m 4ms/step - accuracy: 0.9847 - loss: 0.0505 - val_accuracy: 0.9766 - val_loss: 0.0837\n",
            "Epoch 5/15\n",
            "\u001b[1m1719/1719\u001b[0m \u001b[32m━━━━━━━━━━━━━━━━━━━━\u001b[0m\u001b[37m\u001b[0m \u001b[1m9s\u001b[0m 5ms/step - accuracy: 0.9856 - loss: 0.0418 - val_accuracy: 0.9792 - val_loss: 0.0707\n",
            "Epoch 6/15\n",
            "\u001b[1m1719/1719\u001b[0m \u001b[32m━━━━━━━━━━━━━━━━━━━━\u001b[0m\u001b[37m\u001b[0m \u001b[1m10s\u001b[0m 5ms/step - accuracy: 0.9907 - loss: 0.0295 - val_accuracy: 0.9754 - val_loss: 0.0802\n",
            "Epoch 7/15\n",
            "\u001b[1m1719/1719\u001b[0m \u001b[32m━━━━━━━━━━━━━━━━━━━━\u001b[0m\u001b[37m\u001b[0m \u001b[1m7s\u001b[0m 4ms/step - accuracy: 0.9913 - loss: 0.0246 - val_accuracy: 0.9766 - val_loss: 0.0870\n",
            "Epoch 8/15\n",
            "\u001b[1m1719/1719\u001b[0m \u001b[32m━━━━━━━━━━━━━━━━━━━━\u001b[0m\u001b[37m\u001b[0m \u001b[1m9s\u001b[0m 5ms/step - accuracy: 0.9925 - loss: 0.0225 - val_accuracy: 0.9814 - val_loss: 0.0775\n",
            "Epoch 9/15\n",
            "\u001b[1m1719/1719\u001b[0m \u001b[32m━━━━━━━━━━━━━━━━━━━━\u001b[0m\u001b[37m\u001b[0m \u001b[1m9s\u001b[0m 5ms/step - accuracy: 0.9939 - loss: 0.0177 - val_accuracy: 0.9752 - val_loss: 0.0877\n",
            "Epoch 10/15\n",
            "\u001b[1m1719/1719\u001b[0m \u001b[32m━━━━━━━━━━━━━━━━━━━━\u001b[0m\u001b[37m\u001b[0m \u001b[1m10s\u001b[0m 5ms/step - accuracy: 0.9943 - loss: 0.0158 - val_accuracy: 0.9798 - val_loss: 0.0909\n",
            "Epoch 11/15\n",
            "\u001b[1m1719/1719\u001b[0m \u001b[32m━━━━━━━━━━━━━━━━━━━━\u001b[0m\u001b[37m\u001b[0m \u001b[1m9s\u001b[0m 4ms/step - accuracy: 0.9948 - loss: 0.0147 - val_accuracy: 0.9772 - val_loss: 0.0920\n",
            "Epoch 12/15\n",
            "\u001b[1m1719/1719\u001b[0m \u001b[32m━━━━━━━━━━━━━━━━━━━━\u001b[0m\u001b[37m\u001b[0m \u001b[1m9s\u001b[0m 5ms/step - accuracy: 0.9956 - loss: 0.0132 - val_accuracy: 0.9798 - val_loss: 0.0884\n",
            "Epoch 13/15\n",
            "\u001b[1m1719/1719\u001b[0m \u001b[32m━━━━━━━━━━━━━━━━━━━━\u001b[0m\u001b[37m\u001b[0m \u001b[1m10s\u001b[0m 5ms/step - accuracy: 0.9966 - loss: 0.0104 - val_accuracy: 0.9798 - val_loss: 0.0986\n",
            "Epoch 14/15\n",
            "\u001b[1m1719/1719\u001b[0m \u001b[32m━━━━━━━━━━━━━━━━━━━━\u001b[0m\u001b[37m\u001b[0m \u001b[1m8s\u001b[0m 4ms/step - accuracy: 0.9954 - loss: 0.0127 - val_accuracy: 0.9782 - val_loss: 0.0990\n",
            "Epoch 15/15\n",
            "\u001b[1m1719/1719\u001b[0m \u001b[32m━━━━━━━━━━━━━━━━━━━━\u001b[0m\u001b[37m\u001b[0m \u001b[1m10s\u001b[0m 4ms/step - accuracy: 0.9965 - loss: 0.0099 - val_accuracy: 0.9784 - val_loss: 0.1161\n"
          ]
        }
      ],
      "source": [
        "# TODO: Train the model using model.fit\n",
        "# history = model.fit(...) # 1 epoch is a full pass over the whole training set, let's tray for 15 eopchs\n",
        "# Modelltraining\n",
        "history = model.fit(\n",
        "    X_train, y_train,\n",
        "    epochs=15,\n",
        "    validation_data=(X_valid, y_valid)\n",
        ")"
      ]
    },
    {
      "cell_type": "code",
      "execution_count": 12,
      "metadata": {
        "id": "a4hB8yMWDBZI",
        "colab": {
          "base_uri": "https://localhost:8080/"
        },
        "outputId": "52f3300c-a3af-4c99-f5e8-8a68cc84a147"
      },
      "outputs": [
        {
          "output_type": "stream",
          "name": "stdout",
          "text": [
            "\u001b[1m313/313\u001b[0m \u001b[32m━━━━━━━━━━━━━━━━━━━━\u001b[0m\u001b[37m\u001b[0m \u001b[1m1s\u001b[0m 3ms/step - accuracy: 0.9748 - loss: 0.1381\n",
            "Test Accuracy: 0.9785\n"
          ]
        }
      ],
      "source": [
        "# Modell auf den Testdaten evaluieren\n",
        "test_loss, test_accuracy = model.evaluate(X_test, y_test)  # Gibt Verlust und Genauigkeit auf den Testdaten zurück\n",
        "print(f\"Test Accuracy: {test_accuracy:.4f}\")  # Gibt z. B. 'Test Accuracy: 0.9753' aus\n"
      ]
    },
    {
      "cell_type": "markdown",
      "metadata": {
        "id": "GR8iYyZ9DBZJ"
      },
      "source": [
        "Let's now predict the digits for the first 3 images in the test set. Feel free to check more cases.\n",
        "First we predict the score associated which every category and then we find out which one is the one with highest score."
      ]
    },
    {
      "cell_type": "code",
      "execution_count": 13,
      "metadata": {
        "id": "2x50LD3lDBZJ",
        "colab": {
          "base_uri": "https://localhost:8080/"
        },
        "outputId": "72576d0e-4431-40d4-de5f-67902700edd0"
      },
      "outputs": [
        {
          "output_type": "stream",
          "name": "stdout",
          "text": [
            "\u001b[1m1/1\u001b[0m \u001b[32m━━━━━━━━━━━━━━━━━━━━\u001b[0m\u001b[37m\u001b[0m \u001b[1m0s\u001b[0m 122ms/step\n"
          ]
        },
        {
          "output_type": "execute_result",
          "data": {
            "text/plain": [
              "array([[0., 0., 0., 0., 0., 0., 0., 1., 0., 0.],\n",
              "       [0., 0., 1., 0., 0., 0., 0., 0., 0., 0.],\n",
              "       [0., 1., 0., 0., 0., 0., 0., 0., 0., 0.]], dtype=float32)"
            ]
          },
          "metadata": {},
          "execution_count": 13
        }
      ],
      "source": [
        "X_new = X_test[:3]  # Nimmt die ersten 3 Bilder aus dem Testset als neue Eingabedaten\n",
        "y_proba = model.predict(X_new)  # Gibt für jedes Bild ein Array mit 10 Wahrscheinlichkeiten (für Ziffern 0–9)\n",
        "y_proba.round(2)  # Rundet die Wahrscheinlichkeiten auf 2 Dezimalstellen – besser lesbar"
      ]
    },
    {
      "cell_type": "code",
      "execution_count": 14,
      "metadata": {
        "id": "cRj6gzdCDBZJ",
        "colab": {
          "base_uri": "https://localhost:8080/"
        },
        "outputId": "aebd879c-99d9-41d3-f2c5-4930d7c597fa"
      },
      "outputs": [
        {
          "output_type": "execute_result",
          "data": {
            "text/plain": [
              "array([7, 2, 1])"
            ]
          },
          "metadata": {},
          "execution_count": 14
        }
      ],
      "source": [
        "y_pred = np.argmax(y_proba, axis=1)  # Nimmt den Index mit der höchsten Wahrscheinlichkeit (Klasse mit höchster Wahrscheinlichkeit)\n",
        "\n",
        "# Hinweis für binäre Klassifikation (hier nicht relevant):\n",
        "# y_pred = (y_proba > 0.5).astype(\"int32\")  # Wendet Schwellenwert 0.5 an für binäre Entscheidungen (z. B. 0 = negativ, 1 = positiv)\n",
        "\n",
        "y_pred  # Gibt die vorhergesagten Klassen (Ziffern 0–9) für die 3 Bilder zurück, z. B. array([3, 1, 4])\n"
      ]
    },
    {
      "cell_type": "markdown",
      "metadata": {
        "id": "7aV-fhuHDBZJ"
      },
      "source": [
        "Let's now visually check"
      ]
    },
    {
      "cell_type": "code",
      "execution_count": 17,
      "metadata": {
        "id": "cN1YzS4uDBZJ",
        "colab": {
          "base_uri": "https://localhost:8080/",
          "height": 201
        },
        "outputId": "6f4e9cb1-8344-47d7-fb4d-5cf5f5d16d7d"
      },
      "outputs": [
        {
          "output_type": "display_data",
          "data": {
            "text/plain": [
              "<Figure size 720x240 with 3 Axes>"
            ],
            "image/png": "[encoded data removed]"
          },
          "metadata": {}
        }
      ],
      "source": [
        "plt.figure(figsize=(7.2, 2.4))  # Gesamtgröße der Grafik in Zoll (breit genug für 3 Bilder nebeneinander)\n",
        "\n",
        "for index, image in enumerate(X_new):  # Schleife über die 3 Testbilder\n",
        "    plt.subplot(1, 3, index + 1)  # 1 Zeile, 3 Spalten – aktuelles Bild an Position index + 1\n",
        "    plt.imshow(image, cmap=\"binary\", interpolation=\"nearest\")  # Zeigt das Bild in Schwarz-Weiss\n",
        "    plt.axis('off')  # Entfernt die Achsenbeschriftungen\n",
        "\n",
        "plt.subplots_adjust(wspace=0.2, hspace=0.5)  # Abstand zwischen den Bildern\n",
        "plt.show()  # Zeigt die Bilder\n"
      ]
    },
    {
      "cell_type": "markdown",
      "metadata": {
        "id": "n5cuBVanDBZJ"
      },
      "source": [
        "### Experimental test\n",
        "\n",
        "The final test consist in a \"physical\" test.\n",
        "1) Draw on a piece of paper 1 single digit between 0 and 9.\n",
        "2) Take a picture with your webcam of it\n",
        "3) Test if the neural network can correctly identify also your handwriting\n",
        "\n",
        "\n",
        "To do that you need to preprocess first your image and put it in the right format, by using the Keras function 'load_img'\n",
        "https://www.tensorflow.org/api_docs/python/tf/keras/preprocessing/image/load_img\n",
        "ATTENTION: your image need to be resized in the same size that you used for training.... And pay attention to RGB images and grayscale!"
      ]
    },
    {
      "cell_type": "code",
      "execution_count": 20,
      "metadata": {
        "id": "Xdn0lFD-DBZJ"
      },
      "outputs": [],
      "source": [
        "img = tf.keras.preprocessing.image.load_img(\"my_digit.jpg\", color_mode=\"grayscale\", target_size=(28, 28))\n",
        "# Lädt das Bild in Graustufen und skaliert es auf 28x28 Pixel (wie MNIST)\n",
        "\n",
        "img_array = tf.keras.preprocessing.image.img_to_array(img)\n",
        "# Wandelt das Bild in ein NumPy-Array um – Form: (28, 28, 1)\n",
        "\n",
        "img_array = img_array / 255.0\n",
        "# Skaliert die Pixelwerte auf den Bereich [0, 1]\n",
        "\n",
        "img_array = tf.expand_dims(img_array, 0)\n",
        "# Fügt eine Batch-Dimension hinzu → Form: (1, 28, 28, 1)\n"
      ]
    },
    {
      "cell_type": "markdown",
      "metadata": {
        "id": "_7RUzhWCDBZK"
      },
      "source": [
        "Now you can simply predict the class of your image, as done just before for the MNIST test images.\n"
      ]
    },
    {
      "cell_type": "code",
      "execution_count": 21,
      "metadata": {
        "id": "euTAnHbiDBZK",
        "colab": {
          "base_uri": "https://localhost:8080/"
        },
        "outputId": "e06c33b1-2e23-4464-d6ea-71e19659a301"
      },
      "outputs": [
        {
          "output_type": "stream",
          "name": "stdout",
          "text": [
            "This image most likely belongs to [2] with a 23.19 percent confidence.\n",
            "tf.Tensor(\n",
            "[0.08534133 0.08534133 0.23189662 0.08534133 0.08534133 0.08534148\n",
            " 0.08534178 0.08534186 0.08537154 0.08534133], shape=(10,), dtype=float32)\n"
          ]
        }
      ],
      "source": [
        "predictions = model(img_array, training=False)  # Modellvorhersage im Inferenzmodus (kein Dropout etc.)\n",
        "score = tf.nn.softmax(predictions[0])  # Softmax anwenden auf die erste (und einzige) Vorhersage → ergibt Wahrscheinlichkeiten\n",
        "\n",
        "print(\n",
        "    \"This image most likely belongs to {} with a {:.2f} percent confidence.\"\n",
        "    .format(np.argmax(predictions, axis=1), 100 * np.max(score))\n",
        ")\n",
        "print(score)  # Zeigt alle 10 Wahrscheinlichkeiten (für Klassen 0–9)\n"
      ]
    },
    {
      "cell_type": "markdown",
      "metadata": {
        "id": "447ytJDuDBZK"
      },
      "source": [
        "Is the result correct?"
      ]
    },
    {
      "cell_type": "markdown",
      "metadata": {
        "id": "UUPBdTLmDBZK"
      },
      "source": [
        "### Plot the evolution of accuracy and loss\n",
        "The historical values of accuracy and loss during training and validation are stored during training in the variable \"history\".\n",
        "You can access them through history.history.\n",
        "Use this information to plot and compare the evolution of accuracy and loss for training and validation. What can you learn from this?"
      ]
    },
    {
      "cell_type": "code",
      "execution_count": 23,
      "metadata": {
        "id": "HSIqGk5ADBZK",
        "colab": {
          "base_uri": "https://localhost:8080/",
          "height": 333
        },
        "outputId": "0da15db4-734f-44fc-fd89-7972d2e11ca0"
      },
      "outputs": [
        {
          "output_type": "display_data",
          "data": {
            "text/plain": [
              "<Figure size 1000x300 with 2 Axes>"
            ],
            "image/png": "[encoded data removed]"
          },
          "metadata": {}
        }
      ],
      "source": [
        "plt.figure(figsize=(10, 3))  # Setzt die Gesamtgröße der Darstellung auf 10x3 Zoll\n",
        "\n",
        "# Teil 1: Genauigkeit (Accuracy) visualisieren\n",
        "plt.subplot(121)  # Erstes Subplot (1 Zeile, 2 Spalten, erstes Feld)\n",
        "plt.plot(history.history['accuracy'])  # Trainingsgenauigkeit pro Epoche\n",
        "plt.plot(history.history['val_accuracy'])  # Validierungsgenauigkeit pro Epoche\n",
        "plt.title('Model accuracy')  # Titel des Plots\n",
        "plt.ylabel('Accuracy')  # Y-Achse beschriften\n",
        "plt.xlabel('Epoch')  # X-Achse beschriften\n",
        "plt.legend(['Train', 'Val'], loc='upper left')  # Legende oben links\n",
        "\n",
        "# Teil 2: Verlust (Loss) visualisieren\n",
        "plt.subplot(122)  # Zweites Subplot (zweites Feld)\n",
        "plt.plot(history.history['loss'])  # Trainingsverlust pro Epoche\n",
        "plt.plot(history.history['val_loss'])  # Validierungsverlust pro Epoche\n",
        "plt.title('Model loss')  # Titel des Plots\n",
        "plt.ylabel('Loss')  # Y-Achse beschriften\n",
        "plt.xlabel('Epoch')  # X-Achse beschriften\n",
        "plt.legend(['Train', 'Val'], loc='upper left')  # Legende oben links\n",
        "\n",
        "plt.show()  # Zeigt beide Plots an\n"
      ]
    }
  ],
  "metadata": {
    "colab": {
      "provenance": [],
      "include_colab_link": true
    },
    "kernelspec": {
      "display_name": "Python 3",
      "name": "python3"
    },
    "language_info": {
      "codemirror_mode": {
        "name": "ipython",
        "version": 3
      },
      "file_extension": ".py",
      "mimetype": "text/x-python",
      "name": "python",
      "nbconvert_exporter": "python",
      "pygments_lexer": "ipython3",
      "version": "3.10.10"
    }
  },
  "nbformat": 4,
  "nbformat_minor": 0
}